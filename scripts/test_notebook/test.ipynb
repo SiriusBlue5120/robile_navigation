{
 "cells": [
  {
   "cell_type": "code",
   "execution_count": 1,
   "metadata": {},
   "outputs": [],
   "source": [
    "import numpy as np"
   ]
  },
  {
   "cell_type": "code",
   "execution_count": 2,
   "metadata": {},
   "outputs": [
    {
     "data": {
      "text/plain": [
       "array([[ 0.62242298, -0.95687436],\n",
       "       [-0.28946166, -0.19573368],\n",
       "       [-0.95488804, -0.00772582],\n",
       "       [-0.86441419, -0.27353684],\n",
       "       [-0.31352347, -0.27097979],\n",
       "       [ 0.91911551,  0.17220942],\n",
       "       [-0.22700369, -0.85146781],\n",
       "       [-0.82652134, -0.36068693],\n",
       "       [-0.93015085, -0.48976778],\n",
       "       [ 0.61446708,  0.69682854]])"
      ]
     },
     "execution_count": 2,
     "metadata": {},
     "output_type": "execute_result"
    }
   ],
   "source": [
    "cartesian_position = np.random.uniform(-1, 1, (10, 2))\n",
    "cartesian_position"
   ]
  },
  {
   "cell_type": "code",
   "execution_count": 3,
   "metadata": {},
   "outputs": [],
   "source": [
    "assert cartesian_position.shape[-1] == 2\n",
    "assert len(cartesian_position.shape) <= 2"
   ]
  },
  {
   "cell_type": "code",
   "execution_count": 4,
   "metadata": {},
   "outputs": [],
   "source": [
    "# cartesian_position = cartesian_position[0, :]\n",
    "# cartesian_position"
   ]
  },
  {
   "cell_type": "code",
   "execution_count": 5,
   "metadata": {},
   "outputs": [
    {
     "data": {
      "text/plain": [
       "array([[ 0.62242298, -0.95687436],\n",
       "       [-0.28946166, -0.19573368],\n",
       "       [-0.95488804, -0.00772582],\n",
       "       [-0.86441419, -0.27353684],\n",
       "       [-0.31352347, -0.27097979],\n",
       "       [ 0.91911551,  0.17220942],\n",
       "       [-0.22700369, -0.85146781],\n",
       "       [-0.82652134, -0.36068693],\n",
       "       [-0.93015085, -0.48976778],\n",
       "       [ 0.61446708,  0.69682854]])"
      ]
     },
     "execution_count": 5,
     "metadata": {},
     "output_type": "execute_result"
    }
   ],
   "source": [
    "if len(cartesian_position.shape) == 1:\n",
    "    cartesian_position = cartesian_position[np.newaxis]\n",
    "\n",
    "cartesian_position"
   ]
  },
  {
   "cell_type": "code",
   "execution_count": 6,
   "metadata": {},
   "outputs": [
    {
     "data": {
      "text/plain": [
       "array([[1.14149854, 0.        ],\n",
       "       [0.34942771, 0.        ],\n",
       "       [0.95491929, 0.        ],\n",
       "       [0.90666107, 0.        ],\n",
       "       [0.41439958, 0.        ],\n",
       "       [0.9351093 , 0.        ],\n",
       "       [0.88120832, 0.        ],\n",
       "       [0.9017941 , 0.        ],\n",
       "       [1.05121505, 0.        ],\n",
       "       [0.92905318, 0.        ]])"
      ]
     },
     "execution_count": 6,
     "metadata": {},
     "output_type": "execute_result"
    }
   ],
   "source": [
    "polar_position = np.zeros_like(cartesian_position)\n",
    "polar_position[:, 0] = np.linalg.norm(cartesian_position[:, :], axis=1)\n",
    "polar_position"
   ]
  },
  {
   "cell_type": "code",
   "execution_count": 7,
   "metadata": {},
   "outputs": [
    {
     "data": {
      "text/plain": [
       "array([[ 1.14149854, -0.99408716],\n",
       "       [ 0.34942771, -2.54701975],\n",
       "       [ 0.95491929, -3.13350202],\n",
       "       [ 0.90666107, -2.83512066],\n",
       "       [ 0.41439958, -2.42885241],\n",
       "       [ 0.9351093 ,  0.18521685],\n",
       "       [ 0.88120832, -1.83133908],\n",
       "       [ 0.9017941 , -2.73011296],\n",
       "       [ 1.05121505, -2.65693399],\n",
       "       [ 0.92905318,  0.84812499]])"
      ]
     },
     "execution_count": 7,
     "metadata": {},
     "output_type": "execute_result"
    }
   ],
   "source": [
    "polar_position[:, 1] = np.arctan2(cartesian_position[:, 1], cartesian_position[:, 0])\n",
    "polar_position"
   ]
  },
  {
   "cell_type": "markdown",
   "metadata": {},
   "source": []
  },
  {
   "cell_type": "code",
   "execution_count": 8,
   "metadata": {},
   "outputs": [],
   "source": [
    "def convert_to_polar(cartesian_position: np.ndarray) -> np.ndarray:\n",
    "    \"\"\"\n",
    "    Convert given 2D position array from cartesian to polar coordinates\n",
    "    \"\"\"\n",
    "    assert cartesian_position.shape[-1] == 2, \"Expected 2D cartesian coordinates\"\n",
    "    assert len(cartesian_position.shape) <= 2,  \"Expected array of 2D cartesian coordinates\"\n",
    "\n",
    "    if len(cartesian_position.shape) == 1:\n",
    "        cartesian_position = cartesian_position[np.newaxis]\n",
    "    \n",
    "    polar_position = np.zeros_like(cartesian_position)\n",
    "    polar_position[:, 0] = np.linalg.norm(cartesian_position[:, :], axis=1)\n",
    "    polar_position[:, 1] = np.arctan2(cartesian_position[:, 1], cartesian_position[:, 0])\n",
    "    \n",
    "    return polar_position"
   ]
  },
  {
   "cell_type": "code",
   "execution_count": 9,
   "metadata": {},
   "outputs": [],
   "source": [
    "known_tags = {\n",
    "    \"A\": np.array((1.0, 2.0, 0.0)),\n",
    "    \"B\": np.array((-1.0, -2.0, 0.0)),\n",
    "    \"C\": np.array((2.0, 2.0, 0.0))\n",
    "}\n",
    "\n",
    "detected_tags = {\n",
    "    \"A\": np.array((1.0, 2.0, 0.0)),\n",
    "    \"B\": np.array((-1.0, -2.0, 0.0)),\n",
    "    \"C\": np.array((2.0, 2.0, 0.0))\n",
    "}"
   ]
  },
  {
   "cell_type": "code",
   "execution_count": 10,
   "metadata": {},
   "outputs": [],
   "source": [
    "if len(detected_tags.keys()):\n",
    "    known_tag_positions = np.zeros((len(detected_tags.keys()), 3))\n",
    "    measured_tag_positions = np.zeros((len(detected_tags.keys()), 3))\n",
    "\n",
    "    for index, tag_name in enumerate(detected_tags.keys()):\n",
    "        known_tag_positions[index, :] = np.array(known_tags[tag_name])\n",
    "        measured_tag_positions[index, :] = detected_tags[tag_name]\n",
    "\n",
    "    # Now a column matrix of tags\n",
    "    known_tags_polar = convert_to_polar(known_tag_positions[:, :-1]).T\n",
    "    measured_tags_polar = convert_to_polar(measured_tag_positions[:, :-1]).T\n"
   ]
  },
  {
   "cell_type": "code",
   "execution_count": 11,
   "metadata": {},
   "outputs": [
    {
     "data": {
      "text/plain": [
       "array([[ 1.,  2.,  0.],\n",
       "       [-1., -2.,  0.],\n",
       "       [ 2.,  2.,  0.]])"
      ]
     },
     "execution_count": 11,
     "metadata": {},
     "output_type": "execute_result"
    }
   ],
   "source": [
    "known_tag_positions"
   ]
  },
  {
   "cell_type": "code",
   "execution_count": 12,
   "metadata": {},
   "outputs": [
    {
     "data": {
      "text/plain": [
       "array([[ 1.,  2.,  0.],\n",
       "       [-1., -2.,  0.],\n",
       "       [ 2.,  2.,  0.]])"
      ]
     },
     "execution_count": 12,
     "metadata": {},
     "output_type": "execute_result"
    }
   ],
   "source": [
    "measured_tag_positions"
   ]
  },
  {
   "cell_type": "code",
   "execution_count": 13,
   "metadata": {},
   "outputs": [
    {
     "data": {
      "text/plain": [
       "array([[ 2.23606798,  2.23606798,  2.82842712],\n",
       "       [ 1.10714872, -2.03444394,  0.78539816]])"
      ]
     },
     "execution_count": 13,
     "metadata": {},
     "output_type": "execute_result"
    }
   ],
   "source": [
    "known_tags_polar"
   ]
  },
  {
   "cell_type": "code",
   "execution_count": 14,
   "metadata": {},
   "outputs": [
    {
     "data": {
      "text/plain": [
       "array([[-0.58800443],\n",
       "       [-0.38909288],\n",
       "       [ 0.65330832]])"
      ]
     },
     "execution_count": 14,
     "metadata": {},
     "output_type": "execute_result"
    }
   ],
   "source": [
    "state = np.random.uniform(-1, 1, (3, 1))\n",
    "state"
   ]
  },
  {
   "cell_type": "code",
   "execution_count": 15,
   "metadata": {},
   "outputs": [
    {
     "data": {
      "text/plain": [
       "array([[0., 0., 0.],\n",
       "       [0., 0., 0.]])"
      ]
     },
     "execution_count": 15,
     "metadata": {},
     "output_type": "execute_result"
    }
   ],
   "source": [
    "predicted_tags = np.zeros_like(measured_tags_polar)\n",
    "predicted_tags"
   ]
  },
  {
   "cell_type": "code",
   "execution_count": 16,
   "metadata": {},
   "outputs": [
    {
     "data": {
      "text/plain": [
       "array([[ 2.8470468 ,  1.62508915,  3.51933926],\n",
       "       [ 0.4538404 , -2.68775225,  0.13208985]])"
      ]
     },
     "execution_count": 16,
     "metadata": {},
     "output_type": "execute_result"
    }
   ],
   "source": [
    "predicted_tags[1, :] = known_tags_polar[1, :] - state[-1]\n",
    "predicted_tags[0, :] = known_tags_polar[0, :] - (state[0] * np.cos(known_tags_polar[1, :]) + state[1] * np.sin(known_tags_polar[1, :]))\n",
    "predicted_tags"
   ]
  },
  {
   "cell_type": "code",
   "execution_count": 17,
   "metadata": {},
   "outputs": [
    {
     "data": {
      "text/plain": [
       "array([[0.1],\n",
       "       [0.1],\n",
       "       [0. ]])"
      ]
     },
     "execution_count": 17,
     "metadata": {},
     "output_type": "execute_result"
    }
   ],
   "source": [
    "state = np.zeros_like(state)\n",
    "state[0] = 0.1\n",
    "state[1] = 0.1\n",
    "state"
   ]
  },
  {
   "cell_type": "code",
   "execution_count": 18,
   "metadata": {},
   "outputs": [],
   "source": [
    "x, y, theta = state.flatten()\n",
    "r_i, alpha_i = measured_tags_polar[0,:], measured_tags_polar[1,:]\n",
    "r_j, alpha_j = known_tags_polar[0,:], known_tags_polar[1,:]"
   ]
  },
  {
   "cell_type": "code",
   "execution_count": 19,
   "metadata": {},
   "outputs": [
    {
     "data": {
      "text/plain": [
       "array([[ 2.1019039 ,  2.37023206,  2.68700577],\n",
       "       [ 1.10714872, -2.03444394,  0.78539816]])"
      ]
     },
     "execution_count": 19,
     "metadata": {},
     "output_type": "execute_result"
    }
   ],
   "source": [
    "predicted_tags = np.array([r_j-(x *np.cos(alpha_j)+ y*np.sin(alpha_j)), (alpha_j-theta) ]).reshape(2,-1)\n",
    "predicted_tags"
   ]
  },
  {
   "cell_type": "code",
   "execution_count": 20,
   "metadata": {},
   "outputs": [
    {
     "data": {
      "text/plain": [
       "array([[ 0.94, -1.06,  1.9 ],\n",
       "       [ 1.88, -2.12,  1.9 ]])"
      ]
     },
     "execution_count": 20,
     "metadata": {},
     "output_type": "execute_result"
    }
   ],
   "source": [
    "predicted_tags_cartesian = np.zeros_like(predicted_tags)\n",
    "predicted_tags_cartesian[0] = predicted_tags[0] * np.cos(predicted_tags[1])\n",
    "predicted_tags_cartesian[1] = predicted_tags[0] * np.sin(predicted_tags[1])\n",
    "predicted_tags_cartesian"
   ]
  },
  {
   "cell_type": "code",
   "execution_count": 21,
   "metadata": {},
   "outputs": [
    {
     "data": {
      "text/plain": [
       "array([[ 2.23606798,  2.23606798,  2.82842712],\n",
       "       [ 1.10714872, -2.03444394,  0.78539816]])"
      ]
     },
     "execution_count": 21,
     "metadata": {},
     "output_type": "execute_result"
    }
   ],
   "source": [
    "known_tags_polar"
   ]
  },
  {
   "cell_type": "code",
   "execution_count": 22,
   "metadata": {},
   "outputs": [
    {
     "data": {
      "text/plain": [
       "array([[ 2.23606798,  2.23606798,  2.82842712],\n",
       "       [ 1.10714872, -2.03444394,  0.78539816]])"
      ]
     },
     "execution_count": 22,
     "metadata": {},
     "output_type": "execute_result"
    }
   ],
   "source": [
    "measured_tags_polar"
   ]
  },
  {
   "cell_type": "code",
   "execution_count": 23,
   "metadata": {},
   "outputs": [
    {
     "data": {
      "text/plain": [
       "array([[ 0.13416408, -0.13416408,  0.14142136],\n",
       "       [ 0.        ,  0.        ,  0.        ]])"
      ]
     },
     "execution_count": 23,
     "metadata": {},
     "output_type": "execute_result"
    }
   ],
   "source": [
    "v_t = measured_tags_polar - np.array([r_j-(x *np.cos(alpha_j)+ y*np.sin(alpha_j)), (alpha_j-theta)]).reshape(2,-1)\n",
    "v_t"
   ]
  },
  {
   "cell_type": "code",
   "execution_count": 24,
   "metadata": {},
   "outputs": [
    {
     "data": {
      "text/plain": [
       "array([ 2.23606798,  2.23606798,  2.82842712,  1.10714872, -2.03444394,\n",
       "        0.78539816])"
      ]
     },
     "execution_count": 24,
     "metadata": {},
     "output_type": "execute_result"
    }
   ],
   "source": [
    "known_tags_polar.flatten()"
   ]
  },
  {
   "cell_type": "code",
   "execution_count": 25,
   "metadata": {},
   "outputs": [
    {
     "data": {
      "text/plain": [
       "array([[ 2.23606798,  2.23606798,  2.82842712],\n",
       "       [ 1.10714872, -2.03444394,  0.78539816]])"
      ]
     },
     "execution_count": 25,
     "metadata": {},
     "output_type": "execute_result"
    }
   ],
   "source": [
    "measured_tags_polar"
   ]
  },
  {
   "cell_type": "markdown",
   "metadata": {},
   "source": []
  },
  {
   "cell_type": "code",
   "execution_count": 26,
   "metadata": {},
   "outputs": [
    {
     "data": {
      "text/plain": [
       "array([[0.22162558],\n",
       "       [0.50705809],\n",
       "       [0.24945403]])"
      ]
     },
     "execution_count": 26,
     "metadata": {},
     "output_type": "execute_result"
    }
   ],
   "source": [
    "estimated_pos = np.random.uniform(-1, 1, (3, 1))\n",
    "estimated_pos"
   ]
  },
  {
   "cell_type": "code",
   "execution_count": 27,
   "metadata": {},
   "outputs": [
    {
     "name": "stdout",
     "output_type": "stream",
     "text": [
      "0.22162558359292706 0.5070580883260347 0.24945402873799738\n"
     ]
    }
   ],
   "source": [
    "x, y, theta = estimated_pos.flatten()\n",
    "print(x, y, theta)"
   ]
  },
  {
   "cell_type": "markdown",
   "metadata": {},
   "source": [
    "# Testing loop"
   ]
  },
  {
   "cell_type": "markdown",
   "metadata": {},
   "source": [
    "### Prediction update"
   ]
  },
  {
   "cell_type": "code",
   "execution_count": 233,
   "metadata": {},
   "outputs": [
    {
     "data": {
      "text/plain": [
       "array([[1.        ],\n",
       "       [1.        ],\n",
       "       [0.78539816]])"
      ]
     },
     "execution_count": 233,
     "metadata": {},
     "output_type": "execute_result"
    }
   ],
   "source": [
    "state = np.array((1.0, 1.0, np.pi/4))[np.newaxis].T\n",
    "# state = np.array((0.0, 0.0, np.pi/2))\n",
    "state"
   ]
  },
  {
   "cell_type": "code",
   "execution_count": 234,
   "metadata": {},
   "outputs": [
    {
     "data": {
      "text/plain": [
       "array([[0.5],\n",
       "       [0.5],\n",
       "       [0.1]])"
      ]
     },
     "execution_count": 234,
     "metadata": {},
     "output_type": "execute_result"
    }
   ],
   "source": [
    "control_input = np.array((0.5, 0.5, 0.1))[np.newaxis].T\n",
    "control_input"
   ]
  },
  {
   "cell_type": "code",
   "execution_count": 235,
   "metadata": {},
   "outputs": [
    {
     "data": {
      "text/plain": [
       "array([[1., 0., 0.],\n",
       "       [0., 1., 0.],\n",
       "       [0., 0., 1.]])"
      ]
     },
     "execution_count": 235,
     "metadata": {},
     "output_type": "execute_result"
    }
   ],
   "source": [
    "F_k_1 = np.eye(3)\n",
    "F_k_1"
   ]
  },
  {
   "cell_type": "code",
   "execution_count": 236,
   "metadata": {},
   "outputs": [
    {
     "data": {
      "text/plain": [
       "array([[0.5, 0. , 0. ],\n",
       "       [0. , 0.5, 0. ],\n",
       "       [0. , 0. , 0.5]])"
      ]
     },
     "metadata": {},
     "output_type": "display_data"
    }
   ],
   "source": [
    "time_step = 0.5\n",
    "G_k_1 = np.zeros((3,3))\n",
    "np.fill_diagonal(G_k_1, time_step)\n",
    "display(G_k_1)"
   ]
  },
  {
   "cell_type": "code",
   "execution_count": 237,
   "metadata": {},
   "outputs": [
    {
     "data": {
      "text/plain": [
       "array([[1.        ],\n",
       "       [1.        ],\n",
       "       [0.78539816]])"
      ]
     },
     "metadata": {},
     "output_type": "display_data"
    },
    {
     "data": {
      "text/plain": [
       "array([[0.25],\n",
       "       [0.25],\n",
       "       [0.05]])"
      ]
     },
     "metadata": {},
     "output_type": "display_data"
    },
    {
     "data": {
      "text/plain": [
       "array([1.25      , 1.25      , 0.83539816])"
      ]
     },
     "execution_count": 237,
     "metadata": {},
     "output_type": "execute_result"
    }
   ],
   "source": [
    "x_k = F_k_1 @ state\n",
    "display(x_k)\n",
    "x_k = G_k_1 @ control_input\n",
    "display(x_k)\n",
    "x_k = F_k_1 @ state + G_k_1 @ control_input\n",
    "x_k.flatten()"
   ]
  },
  {
   "cell_type": "code",
   "execution_count": 238,
   "metadata": {},
   "outputs": [
    {
     "data": {
      "text/plain": [
       "array([[0.01, 0.  , 0.  ],\n",
       "       [0.  , 0.01, 0.  ],\n",
       "       [0.  , 0.  , 0.01]])"
      ]
     },
     "metadata": {},
     "output_type": "display_data"
    },
    {
     "data": {
      "text/plain": [
       "array([[0.01, 0.  , 0.  ],\n",
       "       [0.  , 0.01, 0.  ],\n",
       "       [0.  , 0.  , 0.01]])"
      ]
     },
     "metadata": {},
     "output_type": "display_data"
    }
   ],
   "source": [
    "cov_matrix = np.eye(3) * 0.01\n",
    "display(cov_matrix)\n",
    "pred_noise_density = np.eye(3) * 0.01\n",
    "display(pred_noise_density)"
   ]
  },
  {
   "cell_type": "code",
   "execution_count": 239,
   "metadata": {},
   "outputs": [
    {
     "data": {
      "text/plain": [
       "array([[0.02, 0.  , 0.  ],\n",
       "       [0.  , 0.02, 0.  ],\n",
       "       [0.  , 0.  , 0.02]])"
      ]
     },
     "metadata": {},
     "output_type": "display_data"
    }
   ],
   "source": [
    "P_k = F_k_1 @ cov_matrix @ F_k_1.T + pred_noise_density\n",
    "display(P_k)\n",
    "\n",
    "cov_matrix = P_k"
   ]
  },
  {
   "cell_type": "markdown",
   "metadata": {},
   "source": [
    "### Measurement update"
   ]
  },
  {
   "cell_type": "code",
   "execution_count": 210,
   "metadata": {},
   "outputs": [
    {
     "data": {
      "text/plain": [
       "3"
      ]
     },
     "execution_count": 210,
     "metadata": {},
     "output_type": "execute_result"
    }
   ],
   "source": [
    "known_tags = {\n",
    "    \"A\": np.array((1.0, 2.0, 0.0)),\n",
    "    \"B\": np.array((-1.0, -2.0, 0.0)),\n",
    "    \"C\": np.array((2.0, 2.0, 0.0))\n",
    "}\n",
    "\n",
    "detected_tags = {\n",
    "    \"A\": np.array((1.0, 2.0, 0.0)),\n",
    "    \"B\": np.array((-1.0, -2.0, 0.0)),\n",
    "    \"C\": np.array((2.0, 2.0, 0.0))\n",
    "}\n",
    "\n",
    "dim = 2\n",
    "num_tags = len(detected_tags.keys())\n",
    "num_tags"
   ]
  },
  {
   "cell_type": "code",
   "execution_count": 184,
   "metadata": {},
   "outputs": [],
   "source": [
    "if len(detected_tags.keys()):\n",
    "    known_tag_positions = np.zeros((len(detected_tags.keys()), 3))\n",
    "    measured_tag_positions = np.zeros((len(detected_tags.keys()), 3))\n",
    "\n",
    "    for index, tag_name in enumerate(detected_tags.keys()):\n",
    "        known_tag_positions[index, :] = np.array(known_tags[tag_name])\n",
    "        measured_tag_positions[index, :] = detected_tags[tag_name]\n",
    "\n",
    "    # Now a column matrix of tags\n",
    "    known_tags_polar = convert_to_polar(known_tag_positions[:, :-1]).T\n",
    "    measured_tags_polar = convert_to_polar(measured_tag_positions[:, :-1]).T"
   ]
  },
  {
   "cell_type": "code",
   "execution_count": 185,
   "metadata": {},
   "outputs": [
    {
     "name": "stdout",
     "output_type": "stream",
     "text": [
      "1.0 1.0 0.7853981633974483\n",
      "[2.23606798 2.23606798 2.82842712] [ 1.10714872 -2.03444394  0.78539816]\n",
      "[2.23606798 2.23606798 2.82842712] [ 1.10714872 -2.03444394  0.78539816]\n"
     ]
    }
   ],
   "source": [
    "x, y, theta = state.flatten()\n",
    "print(x, y, theta)\n",
    "# Measured tags_polar\n",
    "r_i, alpha_i = measured_tags_polar[0,:], measured_tags_polar[1,:]\n",
    "print(r_i, alpha_i)\n",
    "# Known tags\n",
    "r_j, alpha_j = known_tags_polar[0,:], known_tags_polar[1,:]\n",
    "print(r_j, alpha_j)"
   ]
  },
  {
   "cell_type": "code",
   "execution_count": 186,
   "metadata": {},
   "outputs": [
    {
     "data": {
      "text/plain": [
       "array([[ 0.89442719,  3.57770876,  1.41421356],\n",
       "       [ 0.32175055, -2.8198421 ,  0.        ]])"
      ]
     },
     "execution_count": 186,
     "metadata": {},
     "output_type": "execute_result"
    }
   ],
   "source": [
    "predicted_tags = np.array([r_j-(x *np.cos(alpha_j)+ y*np.sin(alpha_j)), (alpha_j-theta)]).reshape(2,-1)\n",
    "predicted_tags"
   ]
  },
  {
   "cell_type": "code",
   "execution_count": 187,
   "metadata": {},
   "outputs": [
    {
     "data": {
      "text/plain": [
       "array([[ 0.84852814, -3.39411255,  1.41421356],\n",
       "       [ 0.28284271, -1.13137085,  0.        ]])"
      ]
     },
     "execution_count": 187,
     "metadata": {},
     "output_type": "execute_result"
    }
   ],
   "source": [
    "predicted_tags_cartesian = np.zeros_like(predicted_tags)\n",
    "predicted_tags_cartesian[0] = predicted_tags[0] * np.cos(predicted_tags[1])\n",
    "predicted_tags_cartesian[1] = predicted_tags[0] * np.sin(predicted_tags[1])\n",
    "predicted_tags_cartesian"
   ]
  },
  {
   "cell_type": "code",
   "execution_count": 188,
   "metadata": {},
   "outputs": [
    {
     "data": {
      "text/plain": [
       "array([[-0.24221121, -0.09267933,  0.20257584],\n",
       "       [ 0.18007196,  0.2144071 ,  0.0426121 ]])"
      ]
     },
     "execution_count": 188,
     "metadata": {},
     "output_type": "execute_result"
    }
   ],
   "source": [
    "tag_noise = np.random.uniform(-0.25, 0.25, predicted_tags.shape)\n",
    "tag_noise"
   ]
  },
  {
   "cell_type": "code",
   "execution_count": 189,
   "metadata": {},
   "outputs": [
    {
     "data": {
      "text/plain": [
       "array([[ 0.65221598,  3.48502944,  1.61678941],\n",
       "       [ 0.50182251, -2.605435  ,  0.0426121 ]])"
      ]
     },
     "execution_count": 189,
     "metadata": {},
     "output_type": "execute_result"
    }
   ],
   "source": [
    "measured_tags_polar = predicted_tags + tag_noise\n",
    "measured_tags_polar"
   ]
  },
  {
   "cell_type": "code",
   "execution_count": 190,
   "metadata": {},
   "outputs": [
    {
     "name": "stdout",
     "output_type": "stream",
     "text": [
      "[0.65221598 3.48502944 1.61678941] [ 0.50182251 -2.605435    0.0426121 ]\n",
      "[2.23606798 2.23606798 2.82842712] [ 1.10714872 -2.03444394  0.78539816]\n"
     ]
    }
   ],
   "source": [
    "# Measured tags\n",
    "r_i, alpha_i = measured_tags_polar[0,:], measured_tags_polar[1,:]\n",
    "print(r_i, alpha_i)\n",
    "# Known tags\n",
    "r_j, alpha_j = known_tags_polar[0,:], known_tags_polar[1,:]\n",
    "print(r_j, alpha_j)"
   ]
  },
  {
   "cell_type": "code",
   "execution_count": 191,
   "metadata": {},
   "outputs": [
    {
     "data": {
      "text/plain": [
       "array([[-0.24221121, -0.09267933,  0.20257584],\n",
       "       [ 0.18007196,  0.2144071 ,  0.0426121 ]])"
      ]
     },
     "execution_count": 191,
     "metadata": {},
     "output_type": "execute_result"
    }
   ],
   "source": [
    "v_t = measured_tags_polar - \\\n",
    "            np.array([r_j - (x * np.cos(alpha_j) + y * np.sin(alpha_j)), (alpha_j - theta)]).reshape(2,-1)\n",
    "v_t"
   ]
  },
  {
   "cell_type": "markdown",
   "metadata": {},
   "source": [
    "Turns out the shapes were wrong, correcting them below"
   ]
  },
  {
   "cell_type": "code",
   "execution_count": 211,
   "metadata": {},
   "outputs": [
    {
     "data": {
      "text/plain": [
       "array([[ 1.],\n",
       "       [ 2.],\n",
       "       [-1.],\n",
       "       [-2.],\n",
       "       [ 2.],\n",
       "       [ 2.]])"
      ]
     },
     "metadata": {},
     "output_type": "display_data"
    },
    {
     "data": {
      "text/plain": [
       "array([[ 1.],\n",
       "       [ 2.],\n",
       "       [-1.],\n",
       "       [-2.],\n",
       "       [ 2.],\n",
       "       [ 2.]])"
      ]
     },
     "metadata": {},
     "output_type": "display_data"
    }
   ],
   "source": [
    "if len(detected_tags.keys()):\n",
    "    known_tag_positions = np.zeros((len(detected_tags.keys())*2, 1))\n",
    "    measured_tag_positions = np.zeros((len(detected_tags.keys())*2, 1))\n",
    "\n",
    "    for index, tag_name in enumerate(detected_tags.keys()):\n",
    "        known_tag_positions[index*2:index*2+2, :] = np.array(known_tags[tag_name])[:2][np.newaxis].T\n",
    "        measured_tag_positions[index*2:index*2+2, :] = detected_tags[tag_name][:2][np.newaxis].T\n",
    "\n",
    "    display(known_tag_positions)\n",
    "    display(measured_tag_positions)\n",
    "    # Now a column matrix of tags\n",
    "    # known_tags_polar = convert_to_polar(known_tag_positions[:, :-1]).T\n",
    "    # measured_tags_polar = convert_to_polar(measured_tag_positions[:, :-1]).T"
   ]
  },
  {
   "cell_type": "code",
   "execution_count": 212,
   "metadata": {},
   "outputs": [
    {
     "data": {
      "text/plain": [
       "array([[ 2.23606798],\n",
       "       [ 1.10714872],\n",
       "       [ 2.23606798],\n",
       "       [-2.03444394],\n",
       "       [ 2.82842712],\n",
       "       [ 0.78539816]])"
      ]
     },
     "execution_count": 212,
     "metadata": {},
     "output_type": "execute_result"
    }
   ],
   "source": [
    "known_tags_polar = np.zeros(known_tag_positions.shape)\n",
    "for index in range(num_tags):\n",
    "    known_tags_polar[dim*index:dim*index+2] = convert_to_polar(known_tag_positions[dim*index:dim*index+2].flatten()).T\n",
    "\n",
    "known_tags_polar"
   ]
  },
  {
   "cell_type": "markdown",
   "metadata": {},
   "source": [
    "Simulating a measurement of tags - in column form this time"
   ]
  },
  {
   "cell_type": "code",
   "execution_count": 213,
   "metadata": {},
   "outputs": [
    {
     "data": {
      "text/plain": [
       "array([[ 0.89442719],\n",
       "       [ 0.32175055],\n",
       "       [ 3.57770876],\n",
       "       [-2.8198421 ],\n",
       "       [ 1.41421356],\n",
       "       [ 0.        ]])"
      ]
     },
     "execution_count": 213,
     "metadata": {},
     "output_type": "execute_result"
    }
   ],
   "source": [
    "predicted_tags = np.zeros((dim*num_tags, 1))\n",
    "\n",
    "for index in range(num_tags):\n",
    "    alpha_j = known_tags_polar[dim*index+1][0]\n",
    "    r_j = known_tags_polar[dim*index][0]\n",
    "\n",
    "    predicted_tags[dim*index:dim*index+2] = np.array([\n",
    "        [r_j - (x * np.cos(alpha_j) + y * np.sin(alpha_j))],\n",
    "        [alpha_j - theta],\n",
    "    ])\n",
    "\n",
    "predicted_tags"
   ]
  },
  {
   "cell_type": "code",
   "execution_count": 214,
   "metadata": {},
   "outputs": [
    {
     "data": {
      "text/plain": [
       "array([[ 0.52053003],\n",
       "       [ 0.70686725],\n",
       "       [ 3.87505263],\n",
       "       [-2.94369103],\n",
       "       [ 1.19828123],\n",
       "       [ 0.38768556]])"
      ]
     },
     "execution_count": 214,
     "metadata": {},
     "output_type": "execute_result"
    }
   ],
   "source": [
    "measured_tags = predicted_tags + np.random.uniform(-0.5, 0.5, predicted_tags.shape)\n",
    "measured_tags"
   ]
  },
  {
   "cell_type": "code",
   "execution_count": 215,
   "metadata": {},
   "outputs": [
    {
     "data": {
      "text/plain": [
       "array([[-0.37389716],\n",
       "       [ 0.38511669],\n",
       "       [ 0.29734387],\n",
       "       [-0.12384893],\n",
       "       [-0.21593233],\n",
       "       [ 0.38768556]])"
      ]
     },
     "metadata": {},
     "output_type": "display_data"
    },
    {
     "data": {
      "text/plain": [
       "(6, 1)"
      ]
     },
     "metadata": {},
     "output_type": "display_data"
    }
   ],
   "source": [
    "v_t = measured_tags - predicted_tags\n",
    "display(v_t)\n",
    "display(v_t.shape)"
   ]
  },
  {
   "cell_type": "markdown",
   "metadata": {},
   "source": [
    "Jacobian"
   ]
  },
  {
   "cell_type": "code",
   "execution_count": 216,
   "metadata": {},
   "outputs": [
    {
     "data": {
      "text/plain": [
       "array([[ 0.        ,  0.        , -1.        ],\n",
       "       [-0.70710678, -0.70710678,  0.        ]])"
      ]
     },
     "metadata": {},
     "output_type": "display_data"
    },
    {
     "data": {
      "text/plain": [
       "(2, 3)"
      ]
     },
     "metadata": {},
     "output_type": "display_data"
    }
   ],
   "source": [
    "H = np.array([[np.zeros_like(alpha_j), np.zeros_like(alpha_j), -np.ones_like(alpha_j)], \n",
    "                       [-np.cos(alpha_j), -np.sin(alpha_j), np.zeros_like(alpha_j)]])\n",
    "display(H)\n",
    "display(H.shape)"
   ]
  },
  {
   "cell_type": "code",
   "execution_count": 217,
   "metadata": {},
   "outputs": [
    {
     "data": {
      "text/plain": [
       "(6, 3)"
      ]
     },
     "metadata": {},
     "output_type": "display_data"
    },
    {
     "name": "stdout",
     "output_type": "stream",
     "text": [
      "0\n"
     ]
    },
    {
     "data": {
      "text/plain": [
       "array([[ 0.        ,  0.        , -1.        ],\n",
       "       [-0.4472136 , -0.89442719,  0.        ]])"
      ]
     },
     "metadata": {},
     "output_type": "display_data"
    },
    {
     "name": "stdout",
     "output_type": "stream",
     "text": [
      "1\n"
     ]
    },
    {
     "data": {
      "text/plain": [
       "array([[ 0.        ,  0.        , -1.        ],\n",
       "       [ 0.4472136 ,  0.89442719,  0.        ]])"
      ]
     },
     "metadata": {},
     "output_type": "display_data"
    },
    {
     "name": "stdout",
     "output_type": "stream",
     "text": [
      "2\n"
     ]
    },
    {
     "data": {
      "text/plain": [
       "array([[ 0.        ,  0.        , -1.        ],\n",
       "       [-0.70710678, -0.70710678,  0.        ]])"
      ]
     },
     "metadata": {},
     "output_type": "display_data"
    },
    {
     "data": {
      "text/plain": [
       "array([[ 0.        ,  0.        , -1.        ],\n",
       "       [-0.4472136 , -0.89442719,  0.        ],\n",
       "       [ 0.        ,  0.        , -1.        ],\n",
       "       [ 0.4472136 ,  0.89442719,  0.        ],\n",
       "       [ 0.        ,  0.        , -1.        ],\n",
       "       [-0.70710678, -0.70710678,  0.        ]])"
      ]
     },
     "metadata": {},
     "output_type": "display_data"
    }
   ],
   "source": [
    "H = np.zeros((2*num_tags, 3))\n",
    "display(H.shape)\n",
    "\n",
    "for index in range(num_tags):\n",
    "    print(index)\n",
    "    alpha_j = known_tags_polar[dim*index+1][0]\n",
    "    r_j = known_tags_polar[dim*index][0]\n",
    "\n",
    "    H_tag = np.array([\n",
    "        [0, 0, -1],\n",
    "        [-np.cos(alpha_j), -np.sin(alpha_j), 0]\n",
    "    ])\n",
    "    \n",
    "    display(H_tag)\n",
    "    H[dim*index:(dim*index)+2, :] = H_tag\n",
    "\n",
    "display(H)"
   ]
  },
  {
   "cell_type": "code",
   "execution_count": 245,
   "metadata": {},
   "outputs": [],
   "source": [
    "# TODO: Add measurement_cov here\n",
    "measurement_cov = np.eye(6) * 0.01"
   ]
  },
  {
   "cell_type": "code",
   "execution_count": 246,
   "metadata": {},
   "outputs": [
    {
     "data": {
      "text/plain": [
       "array([[ 0.03      ,  0.        ,  0.02      ,  0.        ,  0.02      ,\n",
       "         0.        ],\n",
       "       [ 0.        ,  0.03      ,  0.        , -0.02      ,  0.        ,\n",
       "         0.01897367],\n",
       "       [ 0.02      ,  0.        ,  0.03      ,  0.        ,  0.02      ,\n",
       "         0.        ],\n",
       "       [ 0.        , -0.02      ,  0.        ,  0.03      ,  0.        ,\n",
       "        -0.01897367],\n",
       "       [ 0.02      ,  0.        ,  0.02      ,  0.        ,  0.03      ,\n",
       "         0.        ],\n",
       "       [ 0.        ,  0.01897367,  0.        , -0.01897367,  0.        ,\n",
       "         0.03      ]])"
      ]
     },
     "execution_count": 246,
     "metadata": {},
     "output_type": "execute_result"
    }
   ],
   "source": [
    "sigma = H @ cov_matrix @ H.T + measurement_cov\n",
    "sigma"
   ]
  },
  {
   "cell_type": "markdown",
   "metadata": {},
   "source": [
    "Kalman gain"
   ]
  },
  {
   "cell_type": "code",
   "execution_count": 247,
   "metadata": {},
   "outputs": [],
   "source": [
    "def kalman_filter_gain (\n",
    "        cov_matrix : np.ndarray,\n",
    "        measurement_matrix: np.ndarray,\n",
    "        sigma : np.ndarray\n",
    "        ):\n",
    "\n",
    "    kalman_gain = cov_matrix @ measurement_matrix.T @ np.linalg.pinv(sigma)\n",
    "\n",
    "    return kalman_gain"
   ]
  },
  {
   "cell_type": "code",
   "execution_count": 248,
   "metadata": {},
   "outputs": [
    {
     "data": {
      "text/plain": [
       "array([[-3.18495282e-18, -1.28677524e-17, -2.01649491e-16,\n",
       "        -1.95811242e-16,  2.06408902e-16, -4.71404521e-01],\n",
       "       [ 1.79873262e-17, -3.44010458e-01, -1.82315462e-16,\n",
       "         3.44010458e-01,  1.55298435e-16, -3.62618862e-02],\n",
       "       [-2.85714286e-01,  2.32757878e-16, -2.85714286e-01,\n",
       "         1.61703604e-16, -2.85714286e-01, -7.10129235e-17]])"
      ]
     },
     "metadata": {},
     "output_type": "display_data"
    },
    {
     "data": {
      "text/plain": [
       "(3, 6)"
      ]
     },
     "metadata": {},
     "output_type": "display_data"
    }
   ],
   "source": [
    "kalman_gain = kalman_filter_gain(cov_matrix, H, sigma)\n",
    "display(kalman_gain)\n",
    "display(kalman_gain.shape)"
   ]
  },
  {
   "cell_type": "markdown",
   "metadata": {},
   "source": [
    "Estimation"
   ]
  },
  {
   "cell_type": "code",
   "execution_count": 249,
   "metadata": {},
   "outputs": [
    {
     "data": {
      "text/plain": [
       "array([[1.        ],\n",
       "       [1.        ],\n",
       "       [0.78539816]])"
      ]
     },
     "metadata": {},
     "output_type": "display_data"
    },
    {
     "data": {
      "text/plain": [
       "array([[0.81724327],\n",
       "       [0.81085229],\n",
       "       [0.86896549]])"
      ]
     },
     "metadata": {},
     "output_type": "display_data"
    }
   ],
   "source": [
    "display(state)\n",
    "new_state = state + kalman_gain @ v_t\n",
    "display(new_state)"
   ]
  },
  {
   "cell_type": "code",
   "execution_count": 250,
   "metadata": {},
   "outputs": [
    {
     "data": {
      "text/plain": [
       "array([[0.02, 0.  , 0.  ],\n",
       "       [0.  , 0.02, 0.  ],\n",
       "       [0.  , 0.  , 0.02]])"
      ]
     },
     "metadata": {},
     "output_type": "display_data"
    },
    {
     "data": {
      "text/plain": [
       "array([[ 1.33333333e-02, -6.66666667e-03, -3.37256497e-19],\n",
       "       [-6.66666667e-03,  7.17948718e-03,  8.61890827e-20],\n",
       "       [-3.37256497e-19,  8.61890827e-20,  2.85714286e-03]])"
      ]
     },
     "metadata": {},
     "output_type": "display_data"
    }
   ],
   "source": [
    "display(cov_matrix)\n",
    "new_cov_matrix = cov_matrix - kalman_gain @ sigma @ kalman_gain.T\n",
    "display(new_cov_matrix)"
   ]
  },
  {
   "cell_type": "code",
   "execution_count": null,
   "metadata": {},
   "outputs": [],
   "source": []
  }
 ],
 "metadata": {
  "kernelspec": {
   "display_name": "env",
   "language": "python",
   "name": "python3"
  },
  "language_info": {
   "codemirror_mode": {
    "name": "ipython",
    "version": 3
   },
   "file_extension": ".py",
   "mimetype": "text/x-python",
   "name": "python",
   "nbconvert_exporter": "python",
   "pygments_lexer": "ipython3",
   "version": "3.10.12"
  }
 },
 "nbformat": 4,
 "nbformat_minor": 2
}
